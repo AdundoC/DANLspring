{
  "nbformat": 4,
  "nbformat_minor": 0,
  "metadata": {
    "colab": {
      "provenance": [],
      "toc_visible": true,
      "authorship_tag": "ABX9TyPJdOZ/sM8gViG0HZbofoQp",
      "include_colab_link": true
    },
    "kernelspec": {
      "name": "python3",
      "display_name": "Python 3"
    },
    "language_info": {
      "name": "python"
    }
  },
  "cells": [
    {
      "cell_type": "markdown",
      "metadata": {
        "id": "view-in-github",
        "colab_type": "text"
      },
      "source": [
        "<a href=\"https://colab.research.google.com/github/AdundoC/DANLspring/blob/main/danl_m1_hw1_adundo_cecilia.ipynb\" target=\"_parent\"><img src=\"https://colab.research.google.com/assets/colab-badge.svg\" alt=\"Open In Colab\"/></a>"
      ]
    },
    {
      "cell_type": "code",
      "execution_count": null,
      "metadata": {
        "id": "qXckrnxeY02r"
      },
      "outputs": [],
      "source": []
    },
    {
      "cell_type": "markdown",
      "source": [
        "How do you assign the value 5 to a variable named x?How do you assign the value 5 to a variable named x?"
      ],
      "metadata": {
        "id": "uKEb8fsHZiR1"
      }
    },
    {
      "cell_type": "markdown",
      "source": [
        "##Question1"
      ],
      "metadata": {
        "id": "cm7Mhxe7Zm3v"
      }
    },
    {
      "cell_type": "code",
      "source": [
        "x=5"
      ],
      "metadata": {
        "id": "9bZEk_1VZuEV"
      },
      "execution_count": null,
      "outputs": []
    },
    {
      "cell_type": "markdown",
      "source": [
        "Given lst = [1, 2, 3, 4, 5], what does lst[1:4] return?\n",
        "##Question 2\n"
      ],
      "metadata": {
        "id": "FmRavPfCZ5F2"
      }
    },
    {
      "cell_type": "code",
      "source": [
        "list[1, 2, 3, 4]"
      ],
      "metadata": {
        "colab": {
          "base_uri": "https://localhost:8080/"
        },
        "id": "8Kmr4-jLajpV",
        "outputId": "f9289116-5801-4d73-97d2-536a41492a09"
      },
      "execution_count": null,
      "outputs": [
        {
          "output_type": "execute_result",
          "data": {
            "text/plain": [
              "list[1, 2, 3, 4]"
            ]
          },
          "metadata": {},
          "execution_count": 4
        }
      ]
    },
    {
      "cell_type": "code",
      "source": [
        "list[1 :4]"
      ],
      "metadata": {
        "colab": {
          "base_uri": "https://localhost:8080/"
        },
        "id": "Aa55696-aual",
        "outputId": "b7a70ea3-48d4-4ac0-c229-c65689db7cbd"
      },
      "execution_count": null,
      "outputs": [
        {
          "output_type": "execute_result",
          "data": {
            "text/plain": [
              "list[slice(1, 4, None)]"
            ]
          },
          "metadata": {},
          "execution_count": 5
        }
      ]
    },
    {
      "cell_type": "markdown",
      "source": [
        "1=0 2=1 3=4 4=5\n",
        "-4  -3  -2  -1"
      ],
      "metadata": {
        "id": "xkHrEi8ta3GF"
      }
    },
    {
      "cell_type": "code",
      "source": [],
      "metadata": {
        "id": "3Dy_Ka9ibuy9"
      },
      "execution_count": null,
      "outputs": []
    },
    {
      "cell_type": "markdown",
      "source": [
        "Question 3\n",
        "How do you create a dictionary with keys \"apple\", \"banana\", and \"cherry\", each with the corresponding values 5, 3, and 7?"
      ],
      "metadata": {
        "id": "McDDUTFxb9Ry"
      }
    },
    {
      "cell_type": "markdown",
      "source": [
        "fruits-to-values = {'apple':5, 'banana':3, 'cherry':7}"
      ],
      "metadata": {
        "id": "89K5QXe7c-h-"
      }
    },
    {
      "cell_type": "code",
      "source": [
        " {'apple':5, 'banana':3, 'cherry':7}"
      ],
      "metadata": {
        "colab": {
          "base_uri": "https://localhost:8080/"
        },
        "id": "8wWp2aTRdHN3",
        "outputId": "ba57d888-7904-4afe-b255-381a3fdbb2e1"
      },
      "execution_count": null,
      "outputs": [
        {
          "output_type": "execute_result",
          "data": {
            "text/plain": [
              "{'apple': 5, 'banana': 3, 'cherry': 7}"
            ]
          },
          "metadata": {},
          "execution_count": 12
        }
      ]
    },
    {
      "cell_type": "markdown",
      "source": [
        "##Question3b\n",
        "How do you access the value associated with the key \"banana\" in the dictionary created above?"
      ],
      "metadata": {
        "id": "TTMbv3REdYYb"
      }
    },
    {
      "cell_type": "code",
      "source": [],
      "metadata": {
        "id": "65VJoeKYgjdu"
      },
      "execution_count": null,
      "outputs": []
    },
    {
      "cell_type": "code",
      "source": [
        " dict_example = {'apple':5, 'banana':3, 'cherry':7}\n",
        " dict_example"
      ],
      "metadata": {
        "colab": {
          "base_uri": "https://localhost:8080/"
        },
        "outputId": "3de97ae9-b217-44f2-aa7d-1971da7e77ad",
        "id": "JBr8W9WEhF8M"
      },
      "execution_count": null,
      "outputs": [
        {
          "output_type": "execute_result",
          "data": {
            "text/plain": [
              "{'apple': 5, 'banana': 3, 'cherry': 7}"
            ]
          },
          "metadata": {},
          "execution_count": 14
        }
      ]
    },
    {
      "cell_type": "code",
      "source": [
        "dict_example['banana']"
      ],
      "metadata": {
        "colab": {
          "base_uri": "https://localhost:8080/"
        },
        "id": "zcu521-COpM7",
        "outputId": "bc1f7f58-2be1-40b6-854a-4f6ffa003787"
      },
      "execution_count": null,
      "outputs": [
        {
          "output_type": "execute_result",
          "data": {
            "text/plain": [
              "3"
            ]
          },
          "metadata": {},
          "execution_count": 15
        }
      ]
    },
    {
      "cell_type": "code",
      "source": [],
      "metadata": {
        "id": "W2S3bHCwOnzZ"
      },
      "execution_count": null,
      "outputs": []
    },
    {
      "cell_type": "markdown",
      "source": [
        "##Question4\n",
        "True and False"
      ],
      "metadata": {
        "id": "8faNEXHohfTn"
      }
    },
    {
      "cell_type": "code",
      "source": [
        "not (100=='100')"
      ],
      "metadata": {
        "colab": {
          "base_uri": "https://localhost:8080/"
        },
        "id": "0rZtN9lhhr4q",
        "outputId": "af940c95-4b2d-4721-a5d1-2cc4180621bc"
      },
      "execution_count": null,
      "outputs": [
        {
          "output_type": "execute_result",
          "data": {
            "text/plain": [
              "True"
            ]
          },
          "metadata": {},
          "execution_count": 17
        }
      ]
    },
    {
      "cell_type": "code",
      "source": [
        "25<36"
      ],
      "metadata": {
        "colab": {
          "base_uri": "https://localhost:8080/"
        },
        "id": "n6nEbbW_h4De",
        "outputId": "7a0fd293-a42e-42d2-a42d-882894d6abe5"
      },
      "execution_count": null,
      "outputs": [
        {
          "output_type": "execute_result",
          "data": {
            "text/plain": [
              "True"
            ]
          },
          "metadata": {},
          "execution_count": 18
        }
      ]
    },
    {
      "cell_type": "markdown",
      "source": [
        "##Question5\n",
        "Create a new if-elif-else chain that prints \"well done\" if a score is over 90, “good” if between 40 and 90, and \"bad luck\" otherwise."
      ],
      "metadata": {
        "id": "HRNjK7RtiImZ"
      }
    },
    {
      "cell_type": "code",
      "source": [
        "score = 90"
      ],
      "metadata": {
        "id": "70IDsefpl3QP"
      },
      "execution_count": null,
      "outputs": []
    },
    {
      "cell_type": "code",
      "source": [
        "if score >90:\n",
        "    print('well done')"
      ],
      "metadata": {
        "id": "vsPiL6NVmFSv"
      },
      "execution_count": null,
      "outputs": []
    },
    {
      "cell_type": "code",
      "source": [],
      "metadata": {
        "id": "qRIyb2DsSHut"
      },
      "execution_count": null,
      "outputs": []
    },
    {
      "cell_type": "markdown",
      "source": [
        "## Question 6"
      ],
      "metadata": {
        "id": "UKwYmTenSy_x"
      }
    },
    {
      "cell_type": "code",
      "source": [
        "name_list = ['coding','for','data','analysts']"
      ],
      "metadata": {
        "id": "H4bGnNQeUd-W"
      },
      "execution_count": 6,
      "outputs": []
    },
    {
      "cell_type": "code",
      "source": [
        "for name in name_list :\n",
        "       print (name)"
      ],
      "metadata": {
        "id": "NTR8XKntVCWX"
      },
      "execution_count": null,
      "outputs": []
    },
    {
      "cell_type": "code",
      "source": [
        "for name in name_list :\n",
        "      print (name)"
      ],
      "metadata": {
        "id": "gfvAVo04VYkv"
      },
      "execution_count": null,
      "outputs": []
    }
  ]
}